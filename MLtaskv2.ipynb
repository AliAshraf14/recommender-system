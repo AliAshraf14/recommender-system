{
  "nbformat": 4,
  "nbformat_minor": 0,
  "metadata": {
    "colab": {
      "name": "MLtaskv2.ipynb",
      "provenance": [],
      "collapsed_sections": [],
      "toc_visible": true,
      "include_colab_link": true
    },
    "kernelspec": {
      "name": "python3",
      "display_name": "Python 3"
    }
  },
  "cells": [
    {
      "cell_type": "markdown",
      "metadata": {
        "id": "view-in-github",
        "colab_type": "text"
      },
      "source": [
        "<a href=\"https://colab.research.google.com/github/alishraf12/recommender-system/blob/master/MLtaskv2.ipynb\" target=\"_parent\"><img src=\"https://colab.research.google.com/assets/colab-badge.svg\" alt=\"Open In Colab\"/></a>"
      ]
    },
    {
      "cell_type": "code",
      "metadata": {
        "id": "m5PMH81s94Ho",
        "colab_type": "code",
        "colab": {}
      },
      "source": [
        "import pandas as pd\n",
        "from sklearn.feature_extraction.text import TfidfVectorizer\n",
        "from sklearn.metrics.pairwise import linear_kernel\n",
        "ds = pd.read_csv(\"jobs_data.csv\") #you can plug in your own list of products or movies or books here as csv file#\n",
        "dv = pd.read_csv(\"jobs_data.csv\")\n",
        "tf = TfidfVectorizer(analyzer='word', ngram_range=(1, 3), min_df=0, stop_words='english')\n"
      ],
      "execution_count": 0,
      "outputs": []
    },
    {
      "cell_type": "code",
      "metadata": {
        "id": "-48_p8XM84Qj",
        "colab_type": "code",
        "outputId": "b7837494-cf55-4e33-bf7b-47941019cfe2",
        "colab": {
          "base_uri": "https://localhost:8080/",
          "height": 272
        }
      },
      "source": [
        "!pip install scikit-surprise\n",
        "%matplotlib inline\n",
        "import pandas as pd\n",
        "import numpy as np\n",
        "import matplotlib.pyplot as plt\n",
        "import seaborn as sns\n",
        "from scipy import stats\n",
        "from ast import literal_eval\n",
        "from sklearn.feature_extraction.text import TfidfVectorizer, CountVectorizer\n",
        "from sklearn.metrics.pairwise import linear_kernel, cosine_similarity\n",
        "from nltk.stem.snowball import SnowballStemmer\n",
        "from nltk.stem.wordnet import WordNetLemmatizer\n",
        "from nltk.corpus import wordnet\n",
        "from surprise import Reader, Dataset, SVD\n",
        "\n",
        "import warnings; warnings.simplefilter('ignore')"
      ],
      "execution_count": 0,
      "outputs": [
        {
          "output_type": "stream",
          "text": [
            "Collecting scikit-surprise\n",
            "\u001b[?25l  Downloading https://files.pythonhosted.org/packages/f5/da/b5700d96495fb4f092be497f02492768a3d96a3f4fa2ae7dea46d4081cfa/scikit-surprise-1.1.0.tar.gz (6.4MB)\n",
            "\u001b[K     |████████████████████████████████| 6.5MB 2.5MB/s \n",
            "\u001b[?25hRequirement already satisfied: joblib>=0.11 in /usr/local/lib/python3.6/dist-packages (from scikit-surprise) (0.14.1)\n",
            "Requirement already satisfied: numpy>=1.11.2 in /usr/local/lib/python3.6/dist-packages (from scikit-surprise) (1.17.5)\n",
            "Requirement already satisfied: scipy>=1.0.0 in /usr/local/lib/python3.6/dist-packages (from scikit-surprise) (1.4.1)\n",
            "Requirement already satisfied: six>=1.10.0 in /usr/local/lib/python3.6/dist-packages (from scikit-surprise) (1.12.0)\n",
            "Building wheels for collected packages: scikit-surprise\n",
            "  Building wheel for scikit-surprise (setup.py) ... \u001b[?25l\u001b[?25hdone\n",
            "  Created wheel for scikit-surprise: filename=scikit_surprise-1.1.0-cp36-cp36m-linux_x86_64.whl size=1678237 sha256=2ebe0e002717ebefcd5e206537cfc4cc82b3be36afb6679b5ccca25c48d2420b\n",
            "  Stored in directory: /root/.cache/pip/wheels/cc/fa/8c/16c93fccce688ae1bde7d979ff102f7bee980d9cfeb8641bcf\n",
            "Successfully built scikit-surprise\n",
            "Installing collected packages: scikit-surprise\n",
            "Successfully installed scikit-surprise-1.1.0\n"
          ],
          "name": "stdout"
        }
      ]
    },
    {
      "cell_type": "code",
      "metadata": {
        "id": "dH_mNDOj_DCR",
        "colab_type": "code",
        "colab": {}
      },
      "source": [
        "tfidf_matrix = tf.fit_transform(ds['title'])\n",
        "cosine_similarities = linear_kernel(tfidf_matrix, tfidf_matrix)\n",
        "results = {} # dictionary created to store the result in a dictionary format (ID : (Score,item_id))#\n",
        "for idx, row in ds.iterrows():\n",
        "\n",
        "  similar_indices = cosine_similarities[idx].argsort()[:-5:-1] \n",
        "  similar_items = [(cosine_similarities[idx][i], ds['title'][i]) for i in similar_indices]\n",
        "  results[row['title']] = similar_items[1:] #iterates through all the rows"
      ],
      "execution_count": 0,
      "outputs": []
    },
    {
      "cell_type": "code",
      "metadata": {
        "id": "D-UNZnIX_Jtx",
        "colab_type": "code",
        "outputId": "657bb8ba-5a54-49de-84b7-4589954aafa3",
        "colab": {
          "base_uri": "https://localhost:8080/",
          "height": 84
        }
      },
      "source": [
        "def item(title):\n",
        "    return ds.loc[ds['title'] == title]['industry'].tolist()[0]\n",
        "def recommend(title, num):\n",
        "    if (num == 0):\n",
        "        print(\"Unable to recommend any book as you have not chosen the number of book to be recommended\")\n",
        "    elif (num==1):\n",
        "        print(\"Recommending \" + str(num) + \" book similar to \" + item(title))\n",
        "        \n",
        "    else :\n",
        "        print(\"Recommending \" + str(num) + \" books similar to \" + item(title))\n",
        "        \n",
        "    print(\"----------------------------------------------------------\")\n",
        "    recs = results[title][:num]\n",
        "    for rec in recs:      \n",
        "      print(\"You may also like to read: \" + item(rec[1]) + \" (score:\" + str(rec[0]) + \")\")\n",
        "\n",
        "#the first argument in the below function to be passed is the id of the book, second argument is the number of books you want to be recommended#\n",
        "recommend('PHP Full-Stack - Joomla Expert',2)"
      ],
      "execution_count": 0,
      "outputs": [
        {
          "output_type": "stream",
          "text": [
            "Recommending 2 books similar to ['Information Technology Services']\n",
            "----------------------------------------------------------\n",
            "You may also like to read: ['Information Technology Services'] (score:0.9999999999999999)\n",
            "You may also like to read: ['Information Technology Services'] (score:0.9999999999999999)\n"
          ],
          "name": "stdout"
        }
      ]
    },
    {
      "cell_type": "markdown",
      "metadata": {
        "id": "187sxIkR9CHU",
        "colab_type": "text"
      },
      "source": [
        "# Data Cleaning"
      ]
    },
    {
      "cell_type": "code",
      "metadata": {
        "id": "4-s0gzu-BOjj",
        "colab_type": "code",
        "colab": {}
      },
      "source": [
        "def clean_2(data):\n",
        "  pos=[]\n",
        "  count = 0\n",
        "  str_count=0\n",
        "  for i in data['title']:\n",
        "    str_count = str_count + 1\n",
        "    if '-' in i:\n",
        "      count = count + 1\n",
        "      if count == 2:\n",
        "       post=(i.index('-'))\n",
        "       dect={'str_count':str_count,' index':post}\n",
        "       count=0\n",
        "    \n",
        "  for key,value in dect.items():\n",
        "    print(key)\n",
        "    print(value)\n",
        "\n"
      ],
      "execution_count": 0,
      "outputs": []
    },
    {
      "cell_type": "code",
      "metadata": {
        "id": "qMECaUp2eBLc",
        "colab_type": "code",
        "outputId": "6ba67ce2-da3e-4008-d4a8-2f67334bf1b2",
        "colab": {
          "base_uri": "https://localhost:8080/",
          "height": 84
        }
      },
      "source": [
        "clean_2(ds)"
      ],
      "execution_count": 0,
      "outputs": [
        {
          "output_type": "stream",
          "text": [
            "str_count\n",
            "10869\n",
            " index\n",
            "39\n"
          ],
          "name": "stdout"
        }
      ]
    },
    {
      "cell_type": "code",
      "metadata": {
        "id": "5xO7TbbueKPn",
        "colab_type": "code",
        "colab": {}
      },
      "source": [
        "def find_nth(haystack, needle, n):\n",
        "    start = haystack.find(needle)\n",
        "    while start >= 0 and n > 1:\n",
        "        start = haystack.find(needle, start+len(needle))\n",
        "        n -= 1\n",
        "    return start"
      ],
      "execution_count": 0,
      "outputs": []
    },
    {
      "cell_type": "code",
      "metadata": {
        "id": "fsrYKY-fpuas",
        "colab_type": "code",
        "colab": {}
      },
      "source": [
        "def clean_second_dash(data):\n",
        "  x=[]\n",
        "  str_count=0\n",
        "  dect={'str_count':str_count,' index':x}\n",
        "  for i in data['title']:\n",
        "    position = find_nth(i,'-',2)\n",
        "    string=dv['title'][str_count]\n",
        "    if position > 0:\n",
        "     data['title'][str_count] = string.replace(string[position:],\"\")\n",
        "    str_count = str_count + 1\n",
        "  \n",
        "  \n"
      ],
      "execution_count": 0,
      "outputs": []
    },
    {
      "cell_type": "code",
      "metadata": {
        "id": "wGi5sm2nqB1O",
        "colab_type": "code",
        "colab": {}
      },
      "source": [
        "clean_second_dash(dv)\n"
      ],
      "execution_count": 0,
      "outputs": []
    },
    {
      "cell_type": "code",
      "metadata": {
        "id": "cRbXqVL1rs86",
        "colab_type": "code",
        "outputId": "98114cf3-da4a-4f4a-a81b-21e551e65993",
        "colab": {
          "base_uri": "https://localhost:8080/",
          "height": 34
        }
      },
      "source": [
        "\n",
        "dv['title'][62]"
      ],
      "execution_count": 0,
      "outputs": [
        {
          "output_type": "execute_result",
          "data": {
            "text/plain": [
              "'Administrative Assistant - Intern '"
            ]
          },
          "metadata": {
            "tags": []
          },
          "execution_count": 9
        }
      ]
    },
    {
      "cell_type": "code",
      "metadata": {
        "id": "elCEmlu2wQT4",
        "colab_type": "code",
        "colab": {}
      },
      "source": [
        "def display_all(data):\n",
        "    with pd.option_context(\"display.max_rows\", 1000, \"display.max_columns\", 1000): \n",
        "        display(data)  "
      ],
      "execution_count": 0,
      "outputs": []
    },
    {
      "cell_type": "code",
      "metadata": {
        "id": "G8n66Zfpx7WF",
        "colab_type": "code",
        "outputId": "8ffd1bde-f4d5-4a93-b09d-df00431fe60f",
        "colab": {
          "base_uri": "https://localhost:8080/",
          "height": 553
        }
      },
      "source": [
        "display_all(ds)"
      ],
      "execution_count": 0,
      "outputs": [
        {
          "output_type": "display_data",
          "data": {
            "text/html": [
              "<div>\n",
              "<style scoped>\n",
              "    .dataframe tbody tr th:only-of-type {\n",
              "        vertical-align: middle;\n",
              "    }\n",
              "\n",
              "    .dataframe tbody tr th {\n",
              "        vertical-align: top;\n",
              "    }\n",
              "\n",
              "    .dataframe thead th {\n",
              "        text-align: right;\n",
              "    }\n",
              "</style>\n",
              "<table border=\"1\" class=\"dataframe\">\n",
              "  <thead>\n",
              "    <tr style=\"text-align: right;\">\n",
              "      <th></th>\n",
              "      <th>Unnamed: 0</th>\n",
              "      <th>title</th>\n",
              "      <th>jobFunction</th>\n",
              "      <th>industry</th>\n",
              "    </tr>\n",
              "  </thead>\n",
              "  <tbody>\n",
              "    <tr>\n",
              "      <th>0</th>\n",
              "      <td>0</td>\n",
              "      <td>Full Stack PHP Developer</td>\n",
              "      <td>['Engineering - Telecom/Technology', 'IT/Softw...</td>\n",
              "      <td>['Computer Software', 'Marketing and Advertisi...</td>\n",
              "    </tr>\n",
              "    <tr>\n",
              "      <th>1</th>\n",
              "      <td>1</td>\n",
              "      <td>CISCO Collaboration Specialist Engineer</td>\n",
              "      <td>['Installation/Maintenance/Repair', 'IT/Softwa...</td>\n",
              "      <td>['Information Technology Services']</td>\n",
              "    </tr>\n",
              "    <tr>\n",
              "      <th>2</th>\n",
              "      <td>2</td>\n",
              "      <td>Senior Back End-PHP Developer</td>\n",
              "      <td>['Engineering - Telecom/Technology', 'IT/Softw...</td>\n",
              "      <td>['Computer Software', 'Computer Networking']</td>\n",
              "    </tr>\n",
              "    <tr>\n",
              "      <th>3</th>\n",
              "      <td>3</td>\n",
              "      <td>UX Designer</td>\n",
              "      <td>['Creative/Design/Art', 'IT/Software Developme...</td>\n",
              "      <td>['Computer Software', 'Information Technology ...</td>\n",
              "    </tr>\n",
              "    <tr>\n",
              "      <th>4</th>\n",
              "      <td>4</td>\n",
              "      <td>Java Technical Lead</td>\n",
              "      <td>['Engineering - Telecom/Technology', 'IT/Softw...</td>\n",
              "      <td>['Computer Software', 'Information Technology ...</td>\n",
              "    </tr>\n",
              "    <tr>\n",
              "      <th>...</th>\n",
              "      <td>...</td>\n",
              "      <td>...</td>\n",
              "      <td>...</td>\n",
              "      <td>...</td>\n",
              "    </tr>\n",
              "    <tr>\n",
              "      <th>10865</th>\n",
              "      <td>10865</td>\n",
              "      <td>Odoo Developer</td>\n",
              "      <td>['IT/Software Development', 'Engineering - Tel...</td>\n",
              "      <td>['Real Estate/Property Management', 'Manufactu...</td>\n",
              "    </tr>\n",
              "    <tr>\n",
              "      <th>10866</th>\n",
              "      <td>10866</td>\n",
              "      <td>Senior PHP Developer - Alexandria</td>\n",
              "      <td>['Engineering - Telecom/Technology', 'IT/Softw...</td>\n",
              "      <td>['Information Technology Services']</td>\n",
              "    </tr>\n",
              "    <tr>\n",
              "      <th>10867</th>\n",
              "      <td>10867</td>\n",
              "      <td>Sales &amp; Account Manager (Real Estate / Medical...</td>\n",
              "      <td>['Business Development', 'Sales/Retail', 'Cust...</td>\n",
              "      <td>['Real Estate/Property Management', 'Retail', ...</td>\n",
              "    </tr>\n",
              "    <tr>\n",
              "      <th>10868</th>\n",
              "      <td>10868</td>\n",
              "      <td>Technical and Network Support Engineer - Alexa...</td>\n",
              "      <td>['Installation/Maintenance/Repair', 'Engineeri...</td>\n",
              "      <td>['Computer Software', 'Education', 'Healthcare...</td>\n",
              "    </tr>\n",
              "    <tr>\n",
              "      <th>10869</th>\n",
              "      <td>10869</td>\n",
              "      <td>Senior Java Developer</td>\n",
              "      <td>['IT/Software Development', 'Engineering - Tel...</td>\n",
              "      <td>['Information Technology Services']</td>\n",
              "    </tr>\n",
              "  </tbody>\n",
              "</table>\n",
              "<p>10870 rows × 4 columns</p>\n",
              "</div>"
            ],
            "text/plain": [
              "       Unnamed: 0                                              title  \\\n",
              "0               0                           Full Stack PHP Developer   \n",
              "1               1            CISCO Collaboration Specialist Engineer   \n",
              "2               2                      Senior Back End-PHP Developer   \n",
              "3               3                                        UX Designer   \n",
              "4               4                                Java Technical Lead   \n",
              "...           ...                                                ...   \n",
              "10865       10865                                     Odoo Developer   \n",
              "10866       10866                  Senior PHP Developer - Alexandria   \n",
              "10867       10867  Sales & Account Manager (Real Estate / Medical...   \n",
              "10868       10868  Technical and Network Support Engineer - Alexa...   \n",
              "10869       10869                              Senior Java Developer   \n",
              "\n",
              "                                             jobFunction  \\\n",
              "0      ['Engineering - Telecom/Technology', 'IT/Softw...   \n",
              "1      ['Installation/Maintenance/Repair', 'IT/Softwa...   \n",
              "2      ['Engineering - Telecom/Technology', 'IT/Softw...   \n",
              "3      ['Creative/Design/Art', 'IT/Software Developme...   \n",
              "4      ['Engineering - Telecom/Technology', 'IT/Softw...   \n",
              "...                                                  ...   \n",
              "10865  ['IT/Software Development', 'Engineering - Tel...   \n",
              "10866  ['Engineering - Telecom/Technology', 'IT/Softw...   \n",
              "10867  ['Business Development', 'Sales/Retail', 'Cust...   \n",
              "10868  ['Installation/Maintenance/Repair', 'Engineeri...   \n",
              "10869  ['IT/Software Development', 'Engineering - Tel...   \n",
              "\n",
              "                                                industry  \n",
              "0      ['Computer Software', 'Marketing and Advertisi...  \n",
              "1                    ['Information Technology Services']  \n",
              "2           ['Computer Software', 'Computer Networking']  \n",
              "3      ['Computer Software', 'Information Technology ...  \n",
              "4      ['Computer Software', 'Information Technology ...  \n",
              "...                                                  ...  \n",
              "10865  ['Real Estate/Property Management', 'Manufactu...  \n",
              "10866                ['Information Technology Services']  \n",
              "10867  ['Real Estate/Property Management', 'Retail', ...  \n",
              "10868  ['Computer Software', 'Education', 'Healthcare...  \n",
              "10869                ['Information Technology Services']  \n",
              "\n",
              "[10870 rows x 4 columns]"
            ]
          },
          "metadata": {
            "tags": []
          }
        }
      ]
    },
    {
      "cell_type": "code",
      "metadata": {
        "id": "S6AEgQPux-h-",
        "colab_type": "code",
        "colab": {}
      },
      "source": [
        "def clean_first_dash(data):\n",
        "  x=[]\n",
        "  str_count=0\n",
        "  dect={'str_count':str_count,' index':x}\n",
        "  for i in data['title']:\n",
        "    position = find_nth(i,' - ',1)\n",
        "    string=dv['title'][str_count]\n",
        "    if position > 0:\n",
        "     data['title'][str_count] = string.replace(string[position:],\"\")\n",
        "    str_count = str_count + 1\n",
        "  \n",
        "clean_first_dash(dv)\n"
      ],
      "execution_count": 0,
      "outputs": []
    },
    {
      "cell_type": "code",
      "metadata": {
        "id": "ufeu-E8422SU",
        "colab_type": "code",
        "colab": {}
      },
      "source": [
        "#dv['title'][8]\n",
        "\n"
      ],
      "execution_count": 0,
      "outputs": []
    },
    {
      "cell_type": "markdown",
      "metadata": {
        "id": "ltcInu8g9O6Z",
        "colab_type": "text"
      },
      "source": [
        "# Algorithm IMP"
      ]
    },
    {
      "cell_type": "code",
      "metadata": {
        "id": "i-kKbfKCVnDg",
        "colab_type": "code",
        "outputId": "51c3ad1c-03ca-4941-ae56-b2ce1bbafa5e",
        "colab": {
          "base_uri": "https://localhost:8080/",
          "height": 195
        }
      },
      "source": [
        "dv.head()"
      ],
      "execution_count": 0,
      "outputs": [
        {
          "output_type": "execute_result",
          "data": {
            "text/html": [
              "<div>\n",
              "<style scoped>\n",
              "    .dataframe tbody tr th:only-of-type {\n",
              "        vertical-align: middle;\n",
              "    }\n",
              "\n",
              "    .dataframe tbody tr th {\n",
              "        vertical-align: top;\n",
              "    }\n",
              "\n",
              "    .dataframe thead th {\n",
              "        text-align: right;\n",
              "    }\n",
              "</style>\n",
              "<table border=\"1\" class=\"dataframe\">\n",
              "  <thead>\n",
              "    <tr style=\"text-align: right;\">\n",
              "      <th></th>\n",
              "      <th>Unnamed: 0</th>\n",
              "      <th>title</th>\n",
              "      <th>jobFunction</th>\n",
              "      <th>industry</th>\n",
              "    </tr>\n",
              "  </thead>\n",
              "  <tbody>\n",
              "    <tr>\n",
              "      <th>0</th>\n",
              "      <td>0</td>\n",
              "      <td>Full Stack PHP Developer</td>\n",
              "      <td>['Engineering - Telecom/Technology', 'IT/Softw...</td>\n",
              "      <td>['Computer Software', 'Marketing and Advertisi...</td>\n",
              "    </tr>\n",
              "    <tr>\n",
              "      <th>1</th>\n",
              "      <td>1</td>\n",
              "      <td>CISCO Collaboration Specialist Engineer</td>\n",
              "      <td>['Installation/Maintenance/Repair', 'IT/Softwa...</td>\n",
              "      <td>['Information Technology Services']</td>\n",
              "    </tr>\n",
              "    <tr>\n",
              "      <th>2</th>\n",
              "      <td>2</td>\n",
              "      <td>Senior Back End-PHP Developer</td>\n",
              "      <td>['Engineering - Telecom/Technology', 'IT/Softw...</td>\n",
              "      <td>['Computer Software', 'Computer Networking']</td>\n",
              "    </tr>\n",
              "    <tr>\n",
              "      <th>3</th>\n",
              "      <td>3</td>\n",
              "      <td>UX Designer</td>\n",
              "      <td>['Creative/Design/Art', 'IT/Software Developme...</td>\n",
              "      <td>['Computer Software', 'Information Technology ...</td>\n",
              "    </tr>\n",
              "    <tr>\n",
              "      <th>4</th>\n",
              "      <td>4</td>\n",
              "      <td>Java Technical Lead</td>\n",
              "      <td>['Engineering - Telecom/Technology', 'IT/Softw...</td>\n",
              "      <td>['Computer Software', 'Information Technology ...</td>\n",
              "    </tr>\n",
              "  </tbody>\n",
              "</table>\n",
              "</div>"
            ],
            "text/plain": [
              "   Unnamed: 0  ...                                           industry\n",
              "0           0  ...  ['Computer Software', 'Marketing and Advertisi...\n",
              "1           1  ...                ['Information Technology Services']\n",
              "2           2  ...       ['Computer Software', 'Computer Networking']\n",
              "3           3  ...  ['Computer Software', 'Information Technology ...\n",
              "4           4  ...  ['Computer Software', 'Information Technology ...\n",
              "\n",
              "[5 rows x 4 columns]"
            ]
          },
          "metadata": {
            "tags": []
          },
          "execution_count": 14
        }
      ]
    },
    {
      "cell_type": "code",
      "metadata": {
        "id": "xGnzb2p-NIR_",
        "colab_type": "code",
        "colab": {}
      },
      "source": [
        "from sklearn.feature_extraction.text import TfidfVectorizer\n",
        "\n",
        "tfidf = TfidfVectorizer(stop_words='english')"
      ],
      "execution_count": 0,
      "outputs": []
    },
    {
      "cell_type": "code",
      "metadata": {
        "id": "SR8MO256SHNg",
        "colab_type": "code",
        "colab": {}
      },
      "source": [
        "tfidf_matrix = tfidf.fit_transform(dv['jobFunction'])"
      ],
      "execution_count": 0,
      "outputs": []
    },
    {
      "cell_type": "code",
      "metadata": {
        "id": "yG59xL1PV1pS",
        "colab_type": "code",
        "outputId": "6deaffd1-6207-4d97-e618-8882d8dfc43e",
        "colab": {
          "base_uri": "https://localhost:8080/",
          "height": 34
        }
      },
      "source": [
        "tfidf_matrix.shape"
      ],
      "execution_count": 0,
      "outputs": [
        {
          "output_type": "execute_result",
          "data": {
            "text/plain": [
              "(10870, 78)"
            ]
          },
          "metadata": {
            "tags": []
          },
          "execution_count": 17
        }
      ]
    },
    {
      "cell_type": "code",
      "metadata": {
        "id": "1wfVt1SpWtl5",
        "colab_type": "code",
        "colab": {}
      },
      "source": [
        "from sklearn.metrics.pairwise import linear_kernel\n"
      ],
      "execution_count": 0,
      "outputs": []
    },
    {
      "cell_type": "code",
      "metadata": {
        "id": "fPmV11U5W8Cj",
        "colab_type": "code",
        "colab": {}
      },
      "source": [
        "cosine_sim = linear_kernel(tfidf_matrix, tfidf_matrix)\n",
        "\n"
      ],
      "execution_count": 0,
      "outputs": []
    },
    {
      "cell_type": "code",
      "metadata": {
        "id": "7INt7x_GW9zV",
        "colab_type": "code",
        "colab": {}
      },
      "source": [
        "indices = pd.Series(dv.index, index=dv['title']).drop_duplicates()\n"
      ],
      "execution_count": 0,
      "outputs": []
    },
    {
      "cell_type": "code",
      "metadata": {
        "id": "C4CEHMQHXAbn",
        "colab_type": "code",
        "colab": {}
      },
      "source": [
        "def get_recommendations(title, cosine_sim=cosine_sim):\n",
        "   \n",
        "    idx = indices[title]                           \n",
        "    \n",
        "    sim_scores = list(enumerate(cosine_sim[idx]))       \n",
        "    \n",
        "   \n",
        "    sim_scores = sorted(sim_scores, key=lambda x: x[0])    \n",
        "    #sim_scores = sorted(sim_scores,reverse=True)\n",
        "    sim_scores = sim_scores[1:5] \n",
        "    #print(sim_scores)\n",
        "\n",
        "    blog_indices = [i[0] for i in sim_scores]               \n",
        "\n",
        "    \n",
        "    return dv['jobFunction'].iloc[blog_indices]              "
      ],
      "execution_count": 0,
      "outputs": []
    },
    {
      "cell_type": "code",
      "metadata": {
        "id": "bvySQ6nJXNdx",
        "colab_type": "code",
        "outputId": "8ebc28f9-b8c2-4d28-cddc-b4d5eeab8e9e",
        "colab": {
          "base_uri": "https://localhost:8080/",
          "height": 84
        }
      },
      "source": [
        "x = get_recommendations(\"Full Stack PHP Developer\")\n",
        "for i in reversed(range(1,5)):\n",
        "  print(x[i])"
      ],
      "execution_count": 0,
      "outputs": [
        {
          "output_type": "stream",
          "text": [
            "['Engineering - Telecom/Technology', 'IT/Software Development']\n",
            "['Creative/Design/Art', 'IT/Software Development']\n",
            "['Engineering - Telecom/Technology', 'IT/Software Development']\n",
            "['Installation/Maintenance/Repair', 'IT/Software Development', 'Engineering - Telecom/Technology']\n"
          ],
          "name": "stdout"
        }
      ]
    },
    {
      "cell_type": "code",
      "metadata": {
        "id": "yTUnDnozXm0M",
        "colab_type": "code",
        "colab": {}
      },
      "source": [
        "input_=\"php full stack\"\n",
        "#tfidf_matrix_input = tfidf.fit_transform(input_)\n",
        "tfidf_matrix_title=tfidf.fit_transform(dv['title'])\n",
        "cosine_sim_input=linear_kernel(tfidf_matrix_title,tfidf_matrix_title)"
      ],
      "execution_count": 0,
      "outputs": []
    },
    {
      "cell_type": "code",
      "metadata": {
        "id": "SMuULV7Pfc39",
        "colab_type": "code",
        "colab": {}
      },
      "source": [
        "\n",
        "def get_recommendations_title(title, cosine_sim=cosine_sim):\n",
        "   \n",
        "    idx = indices[title]                           \n",
        "    \n",
        "    sim_scores = list(enumerate(cosine_sim[idx]))       \n",
        "    \n",
        "   \n",
        "    sim_scores = sorted(sim_scores, key=lambda x: x[0])    \n",
        "    #sim_scores = sorted(sim_scores,reverse=True)\n",
        "    sim_scores = sim_scores[1:5] \n",
        "    #print(sim_scores)\n",
        "\n",
        "    blog_indices = [i[0] for i in sim_scores]               \n",
        "\n",
        "    \n",
        "    return dv['title'].iloc[blog_indices]           "
      ],
      "execution_count": 0,
      "outputs": []
    },
    {
      "cell_type": "code",
      "metadata": {
        "id": "n-49L1ykopz_",
        "colab_type": "code",
        "outputId": "814aac93-e8f6-45a3-cc6e-6e766077ddf4",
        "colab": {
          "base_uri": "https://localhost:8080/",
          "height": 101
        }
      },
      "source": [
        "z = [\"Full Stack PHP Developer\"]\n",
        "get_recommendations_title(z)"
      ],
      "execution_count": 0,
      "outputs": [
        {
          "output_type": "execute_result",
          "data": {
            "text/plain": [
              "1    CISCO Collaboration Specialist Engineer\n",
              "2              Senior Back End-PHP Developer\n",
              "3                                UX Designer\n",
              "4                        Java Technical Lead\n",
              "Name: title, dtype: object"
            ]
          },
          "metadata": {
            "tags": []
          },
          "execution_count": 31
        }
      ]
    },
    {
      "cell_type": "code",
      "metadata": {
        "id": "FawOeSK3ovbJ",
        "colab_type": "code",
        "colab": {}
      },
      "source": [
        "tfidf_matrix_inp=tfidf.transform(z)"
      ],
      "execution_count": 0,
      "outputs": []
    },
    {
      "cell_type": "code",
      "metadata": {
        "id": "uX9VWt9opcrJ",
        "colab_type": "code",
        "outputId": "0721278a-49f3-499f-fb57-f8e204efc009",
        "colab": {
          "base_uri": "https://localhost:8080/",
          "height": 34
        }
      },
      "source": [
        "z\n"
      ],
      "execution_count": 0,
      "outputs": [
        {
          "output_type": "execute_result",
          "data": {
            "text/plain": [
              "['Full Stack PHP Developer']"
            ]
          },
          "metadata": {
            "tags": []
          },
          "execution_count": 35
        }
      ]
    },
    {
      "cell_type": "code",
      "metadata": {
        "id": "CbTnQrzZgQRN",
        "colab_type": "code",
        "colab": {}
      },
      "source": [
        ""
      ],
      "execution_count": 0,
      "outputs": []
    }
  ]
}